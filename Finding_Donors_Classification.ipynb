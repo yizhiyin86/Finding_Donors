{
 "cells": [
  {
   "cell_type": "markdown",
   "metadata": {},
   "source": [
    "# Project - Finding Donors"
   ]
  },
  {
   "cell_type": "markdown",
   "metadata": {},
   "source": [
    "## Background\n",
    "**In this project, I used several supervised algorithms to model individual's income using data collected from the 1994 U.S. census (The dataset for this project originates from the [UCI Machine Learning Repository](https://archive.ics.uci.edu/ml/datasets/Census+Income). My goal was to construct a model that accurately predicts whether someone makes more than $50K. This kind of task can help some organizations, e.g., church or charity group, to identify potential donors. \n",
    "**"
   ]
  },
  {
   "cell_type": "code",
   "execution_count": 1,
   "metadata": {},
   "outputs": [],
   "source": [
    "import numpy as np\n",
    "import pandas as pd\n",
    "from time import time\n",
    "from IPython.display import display # Allows the use of display() for DataFrames\n",
    "# Import supplementary visualization code visuals.py\n",
    "import visuals as vs\n",
    "import matplotlib.pyplot as plt\n",
    "import warnings\n",
    "warnings.filterwarnings('ignore')\n",
    "# Pretty display for notebooks\n",
    "%matplotlib inline"
   ]
  },
  {
   "cell_type": "code",
   "execution_count": 2,
   "metadata": {},
   "outputs": [],
   "source": [
    "data=pd.read_csv('census.csv')"
   ]
  },
  {
   "cell_type": "code",
   "execution_count": 3,
   "metadata": {},
   "outputs": [
    {
     "data": {
      "text/html": [
       "<div>\n",
       "<style>\n",
       "    .dataframe thead tr:only-child th {\n",
       "        text-align: right;\n",
       "    }\n",
       "\n",
       "    .dataframe thead th {\n",
       "        text-align: left;\n",
       "    }\n",
       "\n",
       "    .dataframe tbody tr th {\n",
       "        vertical-align: top;\n",
       "    }\n",
       "</style>\n",
       "<table border=\"1\" class=\"dataframe\">\n",
       "  <thead>\n",
       "    <tr style=\"text-align: right;\">\n",
       "      <th></th>\n",
       "      <th>age</th>\n",
       "      <th>workclass</th>\n",
       "      <th>education_level</th>\n",
       "      <th>education-num</th>\n",
       "      <th>marital-status</th>\n",
       "      <th>occupation</th>\n",
       "      <th>relationship</th>\n",
       "      <th>race</th>\n",
       "      <th>sex</th>\n",
       "      <th>capital-gain</th>\n",
       "      <th>capital-loss</th>\n",
       "      <th>hours-per-week</th>\n",
       "      <th>native-country</th>\n",
       "      <th>income</th>\n",
       "    </tr>\n",
       "  </thead>\n",
       "  <tbody>\n",
       "    <tr>\n",
       "      <th>0</th>\n",
       "      <td>39</td>\n",
       "      <td>State-gov</td>\n",
       "      <td>Bachelors</td>\n",
       "      <td>13.0</td>\n",
       "      <td>Never-married</td>\n",
       "      <td>Adm-clerical</td>\n",
       "      <td>Not-in-family</td>\n",
       "      <td>White</td>\n",
       "      <td>Male</td>\n",
       "      <td>2174.0</td>\n",
       "      <td>0.0</td>\n",
       "      <td>40.0</td>\n",
       "      <td>United-States</td>\n",
       "      <td>&lt;=50K</td>\n",
       "    </tr>\n",
       "    <tr>\n",
       "      <th>1</th>\n",
       "      <td>50</td>\n",
       "      <td>Self-emp-not-inc</td>\n",
       "      <td>Bachelors</td>\n",
       "      <td>13.0</td>\n",
       "      <td>Married-civ-spouse</td>\n",
       "      <td>Exec-managerial</td>\n",
       "      <td>Husband</td>\n",
       "      <td>White</td>\n",
       "      <td>Male</td>\n",
       "      <td>0.0</td>\n",
       "      <td>0.0</td>\n",
       "      <td>13.0</td>\n",
       "      <td>United-States</td>\n",
       "      <td>&lt;=50K</td>\n",
       "    </tr>\n",
       "    <tr>\n",
       "      <th>2</th>\n",
       "      <td>38</td>\n",
       "      <td>Private</td>\n",
       "      <td>HS-grad</td>\n",
       "      <td>9.0</td>\n",
       "      <td>Divorced</td>\n",
       "      <td>Handlers-cleaners</td>\n",
       "      <td>Not-in-family</td>\n",
       "      <td>White</td>\n",
       "      <td>Male</td>\n",
       "      <td>0.0</td>\n",
       "      <td>0.0</td>\n",
       "      <td>40.0</td>\n",
       "      <td>United-States</td>\n",
       "      <td>&lt;=50K</td>\n",
       "    </tr>\n",
       "    <tr>\n",
       "      <th>3</th>\n",
       "      <td>53</td>\n",
       "      <td>Private</td>\n",
       "      <td>11th</td>\n",
       "      <td>7.0</td>\n",
       "      <td>Married-civ-spouse</td>\n",
       "      <td>Handlers-cleaners</td>\n",
       "      <td>Husband</td>\n",
       "      <td>Black</td>\n",
       "      <td>Male</td>\n",
       "      <td>0.0</td>\n",
       "      <td>0.0</td>\n",
       "      <td>40.0</td>\n",
       "      <td>United-States</td>\n",
       "      <td>&lt;=50K</td>\n",
       "    </tr>\n",
       "    <tr>\n",
       "      <th>4</th>\n",
       "      <td>28</td>\n",
       "      <td>Private</td>\n",
       "      <td>Bachelors</td>\n",
       "      <td>13.0</td>\n",
       "      <td>Married-civ-spouse</td>\n",
       "      <td>Prof-specialty</td>\n",
       "      <td>Wife</td>\n",
       "      <td>Black</td>\n",
       "      <td>Female</td>\n",
       "      <td>0.0</td>\n",
       "      <td>0.0</td>\n",
       "      <td>40.0</td>\n",
       "      <td>Cuba</td>\n",
       "      <td>&lt;=50K</td>\n",
       "    </tr>\n",
       "  </tbody>\n",
       "</table>\n",
       "</div>"
      ],
      "text/plain": [
       "   age          workclass education_level  education-num       marital-status  \\\n",
       "0   39          State-gov       Bachelors           13.0        Never-married   \n",
       "1   50   Self-emp-not-inc       Bachelors           13.0   Married-civ-spouse   \n",
       "2   38            Private         HS-grad            9.0             Divorced   \n",
       "3   53            Private            11th            7.0   Married-civ-spouse   \n",
       "4   28            Private       Bachelors           13.0   Married-civ-spouse   \n",
       "\n",
       "           occupation    relationship    race      sex  capital-gain  \\\n",
       "0        Adm-clerical   Not-in-family   White     Male        2174.0   \n",
       "1     Exec-managerial         Husband   White     Male           0.0   \n",
       "2   Handlers-cleaners   Not-in-family   White     Male           0.0   \n",
       "3   Handlers-cleaners         Husband   Black     Male           0.0   \n",
       "4      Prof-specialty            Wife   Black   Female           0.0   \n",
       "\n",
       "   capital-loss  hours-per-week  native-country income  \n",
       "0           0.0            40.0   United-States  <=50K  \n",
       "1           0.0            13.0   United-States  <=50K  \n",
       "2           0.0            40.0   United-States  <=50K  \n",
       "3           0.0            40.0   United-States  <=50K  \n",
       "4           0.0            40.0            Cuba  <=50K  "
      ]
     },
     "execution_count": 3,
     "metadata": {},
     "output_type": "execute_result"
    }
   ],
   "source": [
    "data.head()"
   ]
  },
  {
   "cell_type": "code",
   "execution_count": 4,
   "metadata": {},
   "outputs": [
    {
     "data": {
      "text/plain": [
       "age                  int64\n",
       "workclass           object\n",
       "education_level     object\n",
       "education-num      float64\n",
       "marital-status      object\n",
       "occupation          object\n",
       "relationship        object\n",
       "race                object\n",
       "sex                 object\n",
       "capital-gain       float64\n",
       "capital-loss       float64\n",
       "hours-per-week     float64\n",
       "native-country      object\n",
       "income              object\n",
       "dtype: object"
      ]
     },
     "execution_count": 4,
     "metadata": {},
     "output_type": "execute_result"
    }
   ],
   "source": [
    "data.dtypes"
   ]
  },
  {
   "cell_type": "markdown",
   "metadata": {},
   "source": [
    "# Feature inspection"
   ]
  },
  {
   "cell_type": "markdown",
   "metadata": {},
   "source": [
    "### Function to split columns in the df into numerical_columns list and categorical_columns list"
   ]
  },
  {
   "cell_type": "code",
   "execution_count": 5,
   "metadata": {},
   "outputs": [],
   "source": [
    "def column_inspections(data):\n",
    "    numerical_columns=[]\n",
    "    categorical_columns=[]\n",
    "    for i in data.columns:\n",
    "        if 'int' in str(data[i].dtypes) or 'float' in str(data[i].dtypes):\n",
    "            numerical_columns.append(i)\n",
    "        else:\n",
    "            categorical_columns.append(i)\n",
    "        \n",
    "    return numerical_columns,categorical_columns"
   ]
  },
  {
   "cell_type": "code",
   "execution_count": 6,
   "metadata": {},
   "outputs": [
    {
     "name": "stdout",
     "output_type": "stream",
     "text": [
      "\n",
      " unique values for columns workclass: \n",
      "[' State-gov' ' Self-emp-not-inc' ' Private' ' Federal-gov' ' Local-gov'\n",
      " ' Self-emp-inc' ' Without-pay']\n",
      "\n",
      " unique values for columns education_level: \n",
      "[' Bachelors' ' HS-grad' ' 11th' ' Masters' ' 9th' ' Some-college'\n",
      " ' Assoc-acdm' ' 7th-8th' ' Doctorate' ' Assoc-voc' ' Prof-school'\n",
      " ' 5th-6th' ' 10th' ' Preschool' ' 12th' ' 1st-4th']\n",
      "\n",
      " unique values for columns marital-status: \n",
      "[' Never-married' ' Married-civ-spouse' ' Divorced'\n",
      " ' Married-spouse-absent' ' Separated' ' Married-AF-spouse' ' Widowed']\n",
      "\n",
      " unique values for columns occupation: \n",
      "[' Adm-clerical' ' Exec-managerial' ' Handlers-cleaners' ' Prof-specialty'\n",
      " ' Other-service' ' Sales' ' Transport-moving' ' Farming-fishing'\n",
      " ' Machine-op-inspct' ' Tech-support' ' Craft-repair' ' Protective-serv'\n",
      " ' Armed-Forces' ' Priv-house-serv']\n",
      "\n",
      " unique values for columns relationship: \n",
      "[' Not-in-family' ' Husband' ' Wife' ' Own-child' ' Unmarried'\n",
      " ' Other-relative']\n",
      "\n",
      " unique values for columns race: \n",
      "[' White' ' Black' ' Asian-Pac-Islander' ' Amer-Indian-Eskimo' ' Other']\n",
      "\n",
      " unique values for columns sex: \n",
      "[' Male' ' Female']\n",
      "\n",
      " unique values for columns native-country: \n",
      "[' United-States' ' Cuba' ' Jamaica' ' India' ' Mexico' ' Puerto-Rico'\n",
      " ' Honduras' ' England' ' Canada' ' Germany' ' Iran' ' Philippines'\n",
      " ' Poland' ' Columbia' ' Cambodia' ' Thailand' ' Ecuador' ' Laos' ' Taiwan'\n",
      " ' Haiti' ' Portugal' ' Dominican-Republic' ' El-Salvador' ' France'\n",
      " ' Guatemala' ' Italy' ' China' ' South' ' Japan' ' Yugoslavia' ' Peru'\n",
      " ' Outlying-US(Guam-USVI-etc)' ' Scotland' ' Trinadad&Tobago' ' Greece'\n",
      " ' Nicaragua' ' Vietnam' ' Hong' ' Ireland' ' Hungary'\n",
      " ' Holand-Netherlands']\n",
      "\n",
      " unique values for columns income: \n",
      "['<=50K' '>50K']\n"
     ]
    }
   ],
   "source": [
    "numerical_columns,categorical_columns = column_inspections(data)\n",
    "for i in categorical_columns:\n",
    "    print('\\n unique values for columns {}: \\n{}'.format(i, data[i].unique()))"
   ]
  },
  {
   "cell_type": "markdown",
   "metadata": {},
   "source": [
    "## Feature Summaries"
   ]
  },
  {
   "cell_type": "markdown",
   "metadata": {},
   "source": [
    "\n",
    "- Features: \n",
    "    - Categorical values: \n",
    "        - workclass: (' State-gov' ' Self-emp-not-inc' ' Private' ' Federal-gov' ' Local-gov' ' Self-emp-inc' ' Without-pay')\n",
    "        - education_level (' Bachelors' ' HS-grad' ' 11th' ' Masters' ' 9th' ' Some-college' ' Assoc-acdm' ' 7th-8th' ' Doctorate' ' Assoc-voc' ' Prof-school' ' 5th-6th' ' 10th' ' Preschool' ' 12th' ' 1st-4th')\n",
    "\n",
    "        - marital-status(' Never-married' ' Married-civ-spouse' ' Divorced' ' Married-spouse-absent' ' Separated' ' Married-AF-spouse' ' Widowed')\n",
    "\n",
    "        - occupation (' Adm-clerical' ' Exec-managerial' ' Handlers-cleaners' ' Prof-specialty' ' Other-service' ' Sales' ' Transport-moving' ' Farming-fishing' ' Machine-op-inspct' ' Tech-support' ' Craft-repair' ' Protective-serv'\n",
    "     ' Armed-Forces' ' Priv-house-serv')\n",
    "\n",
    "        - relationship(' Not-in-family' ' Husband' ' Wife' ' Own-child' ' Unmarried'\n",
    "     ' Other-relative')\n",
    "\n",
    "        - race (' White' ' Black' ' Asian-Pac-Islander' ' Amer-Indian-Eskimo' ' Other')\n",
    "\n",
    "        - sex (' Male' ' Female')\n",
    "\n",
    "        - native-country (' United-States' ' Cuba' ' Jamaica' ' India' ' Mexico' ' Puerto-Rico'\n",
    "     ' Honduras' ' England' ' Canada' ' Germany' ' Iran' ' Philippines'\n",
    "     ' Poland' ' Columbia' ' Cambodia' ' Thailand' ' Ecuador' ' Laos' ' Taiwan'\n",
    "     ' Haiti' ' Portugal' ' Dominican-Republic' ' El-Salvador' ' France'\n",
    "     ' Guatemala' ' Italy' ' China' ' South' ' Japan' ' Yugoslavia' ' Peru'\n",
    "     ' Outlying-US(Guam-USVI-etc)' ' Scotland' ' Trinadad&Tobago' ' Greece'\n",
    "     ' Nicaragua' ' Vietnam' ' Hong' ' Ireland' ' Hungary'\n",
    "     ' Holand-Netherlands')\n",
    "\n",
    "\n",
    "    - Numeric values: \n",
    "        - age (int64)\n",
    "        - education-num (float64)\n",
    "        - capital-gain (float64)\n",
    "        - capital-loss (float64)\n",
    "        - hours-per-week (float64)\n",
    "\n",
    "\n",
    "- Dependent variable: \n",
    "    - income (object) ('<=50K' or '>50K')\n",
    "\n"
   ]
  },
  {
   "cell_type": "markdown",
   "metadata": {},
   "source": [
    "## Examine the distribution of numerical values"
   ]
  },
  {
   "cell_type": "markdown",
   "metadata": {},
   "source": [
    "### Missing values, skewed distribution?"
   ]
  },
  {
   "cell_type": "code",
   "execution_count": 7,
   "metadata": {},
   "outputs": [
    {
     "data": {
      "text/html": [
       "<div>\n",
       "<style>\n",
       "    .dataframe thead tr:only-child th {\n",
       "        text-align: right;\n",
       "    }\n",
       "\n",
       "    .dataframe thead th {\n",
       "        text-align: left;\n",
       "    }\n",
       "\n",
       "    .dataframe tbody tr th {\n",
       "        vertical-align: top;\n",
       "    }\n",
       "</style>\n",
       "<table border=\"1\" class=\"dataframe\">\n",
       "  <thead>\n",
       "    <tr style=\"text-align: right;\">\n",
       "      <th></th>\n",
       "      <th>age</th>\n",
       "      <th>education-num</th>\n",
       "      <th>capital-gain</th>\n",
       "      <th>capital-loss</th>\n",
       "      <th>hours-per-week</th>\n",
       "    </tr>\n",
       "  </thead>\n",
       "  <tbody>\n",
       "    <tr>\n",
       "      <th>count</th>\n",
       "      <td>45222.000000</td>\n",
       "      <td>45222.000000</td>\n",
       "      <td>45222.000000</td>\n",
       "      <td>45222.000000</td>\n",
       "      <td>45222.000000</td>\n",
       "    </tr>\n",
       "    <tr>\n",
       "      <th>mean</th>\n",
       "      <td>38.547941</td>\n",
       "      <td>10.118460</td>\n",
       "      <td>1101.430344</td>\n",
       "      <td>88.595418</td>\n",
       "      <td>40.938017</td>\n",
       "    </tr>\n",
       "    <tr>\n",
       "      <th>std</th>\n",
       "      <td>13.217870</td>\n",
       "      <td>2.552881</td>\n",
       "      <td>7506.430084</td>\n",
       "      <td>404.956092</td>\n",
       "      <td>12.007508</td>\n",
       "    </tr>\n",
       "    <tr>\n",
       "      <th>min</th>\n",
       "      <td>17.000000</td>\n",
       "      <td>1.000000</td>\n",
       "      <td>0.000000</td>\n",
       "      <td>0.000000</td>\n",
       "      <td>1.000000</td>\n",
       "    </tr>\n",
       "    <tr>\n",
       "      <th>25%</th>\n",
       "      <td>28.000000</td>\n",
       "      <td>9.000000</td>\n",
       "      <td>0.000000</td>\n",
       "      <td>0.000000</td>\n",
       "      <td>40.000000</td>\n",
       "    </tr>\n",
       "    <tr>\n",
       "      <th>50%</th>\n",
       "      <td>37.000000</td>\n",
       "      <td>10.000000</td>\n",
       "      <td>0.000000</td>\n",
       "      <td>0.000000</td>\n",
       "      <td>40.000000</td>\n",
       "    </tr>\n",
       "    <tr>\n",
       "      <th>75%</th>\n",
       "      <td>47.000000</td>\n",
       "      <td>13.000000</td>\n",
       "      <td>0.000000</td>\n",
       "      <td>0.000000</td>\n",
       "      <td>45.000000</td>\n",
       "    </tr>\n",
       "    <tr>\n",
       "      <th>max</th>\n",
       "      <td>90.000000</td>\n",
       "      <td>16.000000</td>\n",
       "      <td>99999.000000</td>\n",
       "      <td>4356.000000</td>\n",
       "      <td>99.000000</td>\n",
       "    </tr>\n",
       "  </tbody>\n",
       "</table>\n",
       "</div>"
      ],
      "text/plain": [
       "                age  education-num  capital-gain  capital-loss  hours-per-week\n",
       "count  45222.000000   45222.000000  45222.000000  45222.000000    45222.000000\n",
       "mean      38.547941      10.118460   1101.430344     88.595418       40.938017\n",
       "std       13.217870       2.552881   7506.430084    404.956092       12.007508\n",
       "min       17.000000       1.000000      0.000000      0.000000        1.000000\n",
       "25%       28.000000       9.000000      0.000000      0.000000       40.000000\n",
       "50%       37.000000      10.000000      0.000000      0.000000       40.000000\n",
       "75%       47.000000      13.000000      0.000000      0.000000       45.000000\n",
       "max       90.000000      16.000000  99999.000000   4356.000000       99.000000"
      ]
     },
     "execution_count": 7,
     "metadata": {},
     "output_type": "execute_result"
    }
   ],
   "source": [
    "#numeric columns\n",
    "data.describe()"
   ]
  },
  {
   "cell_type": "code",
   "execution_count": 8,
   "metadata": {},
   "outputs": [
    {
     "name": "stdout",
     "output_type": "stream",
     "text": [
      "workclass 45222\n",
      "education_level 45222\n",
      "marital-status 45222\n",
      "occupation 45222\n",
      "relationship 45222\n",
      "race 45222\n",
      "sex 45222\n",
      "native-country 45222\n",
      "income 45222\n"
     ]
    }
   ],
   "source": [
    "# categorical values\n",
    "for i in categorical_columns:\n",
    "    print(i, data[i].count())"
   ]
  },
  {
   "cell_type": "markdown",
   "metadata": {},
   "source": [
    "- **No missing values in numerical or categorical columns as every column has the same count, 45222.**\n",
    "- **It seems that capital-gain and capital-loss are very skewed from the describe table.**\n",
    "\n",
    "**No need to fill in missing values but need to take a look at the distribution of numerical values.**"
   ]
  },
  {
   "cell_type": "markdown",
   "metadata": {},
   "source": [
    "### Function to examine distribution \n",
    "**Input \n",
    "- df[numerical_columns]\n",
    "- transformed or not \n",
    "- y_limit if needed\n",
    "**plot histogram**"
   ]
  },
  {
   "cell_type": "code",
   "execution_count": 9,
   "metadata": {},
   "outputs": [],
   "source": [
    "def distribution(data, transformed=False,y_limit=False):\n",
    "    column_list=data.columns\n",
    "    fig=plt.figure(figsize=(11,6))\n",
    "    row=(len(column_list)//3)+1\n",
    "    \n",
    "    for i,feature in enumerate(column_list):\n",
    "        ax=fig.add_subplot(row,3,i+1)\n",
    "        ax.hist(data[feature],bins=25)\n",
    "        ax.set_title('{} Distribution'.format(feature),fontsize=14)\n",
    "        ax.set_xlabel('Value')\n",
    "        ax.set_ylabel('Number of Records')\n",
    "        if y_limit:\n",
    "            ax.set_ylim(top=y_limit)\n",
    "    if transformed:\n",
    "        fig.suptitle('Log-transformed Distributions of Features',fontsize=16,y=1.03)\n",
    "    else:\n",
    "        fig.suptitle('Distribution of Features',fontsize=16,y=1.03)\n",
    "    fig.tight_layout()\n",
    "    fig.show()\n",
    "        "
   ]
  },
  {
   "cell_type": "code",
   "execution_count": 10,
   "metadata": {},
   "outputs": [
    {
     "data": {
      "image/png": "[encoded data removed]",
      "text/plain": [
       "<matplotlib.figure.Figure at 0x1a13f02c50>"
      ]
     },
     "metadata": {},
     "output_type": "display_data"
    }
   ],
   "source": [
    "#plot distribution for features with numerica values\n",
    "distribution(data[numerical_columns])"
   ]
  },
  {
   "cell_type": "markdown",
   "metadata": {},
   "source": [
    "** Well, capital-gain and capital-loss are very skewed with the majority with a value centering around 0. The skewed distributions of these two features make sense as most people do not make money from investments. Let's take a closer look of these two features with a smaller y_axis.**"
   ]
  },
  {
   "cell_type": "code",
   "execution_count": 11,
   "metadata": {},
   "outputs": [
    {
     "data": {
      "image/png": "[encoded data removed]",
      "text/plain": [
       "<matplotlib.figure.Figure at 0x1110313c8>"
      ]
     },
     "metadata": {},
     "output_type": "display_data"
    }
   ],
   "source": [
    "distribution(data[['capital-gain','capital-loss']],y_limit=2000)"
   ]
  },
  {
   "cell_type": "markdown",
   "metadata": {},
   "source": [
    "**Yes, the distributions of capital-gain and capital-loss are heavily skewed with lots of samples centering around the value 0. **"
   ]
  },
  {
   "cell_type": "markdown",
   "metadata": {},
   "source": [
    "# Preprocessing data\n",
    "\n",
    "** Features:**\n",
    "\n",
    "- capital-gain and capital-loss are highly-skewed \n",
    "    1. Log transformation\n",
    "    2. Scale\n",
    "- Other numeric features\n",
    "    1. Scale\n",
    "- Categorical features\n",
    "    1. encode\n",
    "\n",
    "** Dependent value (y):**\n",
    "- convert '<=50K' into 0 and '>50K' into 1\n"
   ]
  },
  {
   "cell_type": "code",
   "execution_count": 12,
   "metadata": {},
   "outputs": [],
   "source": [
    "# split features and the target value\n",
    "income_raw=data['income']\n",
    "feature_raw=data.drop('income',axis=1)"
   ]
  },
  {
   "cell_type": "code",
   "execution_count": 13,
   "metadata": {},
   "outputs": [],
   "source": [
    "# log transformation of capital-gain and capital-loss\n",
    "skewed=['capital-gain','capital-loss']\n",
    "features_log_transformed=feature_raw.copy()\n",
    "features_log_transformed[skewed]=feature_raw[skewed].apply(lambda x: np.log(x + 1))"
   ]
  },
  {
   "cell_type": "code",
   "execution_count": 14,
   "metadata": {},
   "outputs": [
    {
     "data": {
      "image/png": "[encoded data removed]",
      "text/plain": [
       "<matplotlib.figure.Figure at 0x110f705f8>"
      ]
     },
     "metadata": {},
     "output_type": "display_data"
    }
   ],
   "source": [
    "# visualize the log transformation\n",
    "distribution(features_log_transformed[skewed],transformed=True,y_limit=2000)\n"
   ]
  },
  {
   "cell_type": "markdown",
   "metadata": {},
   "source": [
    "** Distributions of capital-gain and capital-loss look much better after log transformation. **"
   ]
  },
  {
   "cell_type": "code",
   "execution_count": 15,
   "metadata": {},
   "outputs": [
    {
     "data": {
      "image/png": "[encoded data removed]",
      "text/plain": [
       "<matplotlib.figure.Figure at 0x11105af60>"
      ]
     },
     "metadata": {},
     "output_type": "display_data"
    }
   ],
   "source": [
    "# scale all the numeric values\n",
    "from sklearn.preprocessing import MinMaxScaler\n",
    "scaler = MinMaxScaler()\n",
    "features_log_minmax_transformed=features_log_transformed.copy()\n",
    "features_log_minmax_transformed[numerical_columns]=scaler.fit_transform(features_log_transformed[numerical_columns])\n",
    "\n",
    "#visualize to see if the xaxis has changed into 0-1\n",
    "distribution(features_log_minmax_transformed[numerical_columns])\n"
   ]
  },
  {
   "cell_type": "markdown",
   "metadata": {},
   "source": [
    "**Ok, every numerical column has been scaled from 0 to 1**"
   ]
  },
  {
   "cell_type": "code",
   "execution_count": 16,
   "metadata": {},
   "outputs": [
    {
     "name": "stdout",
     "output_type": "stream",
     "text": [
      "# of features after encoding are 103\n"
     ]
    }
   ],
   "source": [
    "# encode categorical values\n",
    "features_final=pd.get_dummies(features_log_minmax_transformed)\n",
    "\n",
    "print('# of features after encoding are {}'.format(len(features_final.columns)))"
   ]
  },
  {
   "cell_type": "code",
   "execution_count": 17,
   "metadata": {},
   "outputs": [
    {
     "data": {
      "text/plain": [
       "0    34014\n",
       "1    11208\n",
       "Name: income, dtype: int64"
      ]
     },
     "execution_count": 17,
     "metadata": {},
     "output_type": "execute_result"
    }
   ],
   "source": [
    "#convert the <=50K  and >50K in the income_raw into 0 and 1\n",
    "income=income_raw.replace({'<=50K':0,'>50K':1})\n",
    "income.value_counts()"
   ]
  },
  {
   "cell_type": "markdown",
   "metadata": {},
   "source": [
    "** Alright, we have transformed, scaled and encoded our data. **\n",
    "\n",
    "** Now we need to use the features_final as X and income as y. **"
   ]
  },
  {
   "cell_type": "markdown",
   "metadata": {},
   "source": [
    "## Split and shuffle data"
   ]
  },
  {
   "cell_type": "code",
   "execution_count": 18,
   "metadata": {},
   "outputs": [
    {
     "name": "stdout",
     "output_type": "stream",
     "text": [
      "X_train has 36177 rows and 103 features\n",
      "X_test has 9045 rows and 103 features\n"
     ]
    }
   ],
   "source": [
    "from sklearn.model_selection import train_test_split\n",
    "\n",
    "#assign 80% of data for training while 20% for testing\n",
    "X_train,X_test,y_train,y_test=train_test_split(features_final, \n",
    "                                                    income, \n",
    "                                                    test_size = 0.2, \n",
    "                                                    random_state = 0)\n",
    "#confirm splitting is good\n",
    "print('X_train has {} rows and {} features'.format(X_train.shape[0],X_train.shape[1]))\n",
    "print('X_test has {} rows and {} features'.format(X_test.shape[0],X_test.shape[1]))\n"
   ]
  },
  {
   "cell_type": "markdown",
   "metadata": {},
   "source": [
    "## Metrics and the worst predictor \n",
    "\n",
    "- **Metrics**\n",
    "    -  accuracy_score\n",
    "    -  fbeta_score while beta=0.5. \n",
    "        - Here I think we should emphasize on the precision as this organization really does not want to mis-identify people with an income less than 50K as potential donors.  \n",
    "\n",
    "\n",
    "**The worst predictor**\n",
    "- **I do not have any number to improve on. So my benchmarker is the worst model that we assume everyone makes more than 50K.**"
   ]
  },
  {
   "cell_type": "code",
   "execution_count": 19,
   "metadata": {},
   "outputs": [
    {
     "name": "stdout",
     "output_type": "stream",
     "text": [
      "The worst predictor: [Accuracy score: 0.2478, F-score: 0.2917]\n"
     ]
    }
   ],
   "source": [
    "# assuming everyone has an income of 1 so all FP, TP \n",
    "FP,TP=income.value_counts()\n",
    "\n",
    "# no negatives in this model\n",
    "FN=0\n",
    "TN=0\n",
    "\n",
    "accuracy=(TP+TN)/(TP+FP+FN+TN)\n",
    "recall = TP/(TP+FN)\n",
    "precision = TP/(TP+FP)\n",
    "\n",
    "# Calculate F-score for beta = 0.5 \n",
    "fscore = (1+0.5*0.5)*(precision*recall)/((0.5*0.5*precision)+recall)\n",
    "\n",
    "# Print the results \n",
    "print(\"The worst predictor: [Accuracy score: {:.4f}, F-score: {:.4f}]\".format(accuracy, fscore))\n"
   ]
  },
  {
   "cell_type": "markdown",
   "metadata": {},
   "source": [
    "**My model needs to do better, hopefully, way better than the worst predictor.**"
   ]
  },
  {
   "cell_type": "markdown",
   "metadata": {},
   "source": [
    "# Model Selections"
   ]
  },
  {
   "cell_type": "markdown",
   "metadata": {},
   "source": [
    "### Function to fit and predict learners\n",
    "\n",
    "- input \n",
    "    - learner: the learning algorithm to be trained and predicted on\n",
    "    - sample_size: the size of samples (number) to be drawn from training set \n",
    "      (to evaluate performance when trained by various number of samples)\n",
    "    - X_train\n",
    "    - y_train\n",
    "    - X_test\n",
    "    - y_test\n",
    "    \n",
    "- output\n",
    "    -dictionary with structure as this\n",
    "      {'acc_test':  accuracy score for the testing set using this learner,\n",
    "      'acc_train': accuracy score for the first 300 samples in the training set (set 300 becuase some learner takes too long to predict the entire training set),\n",
    "      'f_test': fscore (beta=0.5) for the testing set using this learner,\n",
    "      'f_train': fscore(beta=0.5) for the first 300 samples in the training set,\n",
    "      'pred_time': time takes for predicting the 300 samples from the training set and the testing set,\n",
    "      'train_time': time takes for training samples}\n"
   ]
  },
  {
   "cell_type": "code",
   "execution_count": 20,
   "metadata": {},
   "outputs": [],
   "source": [
    "from sklearn.metrics import fbeta_score, accuracy_score\n",
    "def train_predict(learner, sample_size, X_train, y_train, X_test, y_test): \n",
    "    results = {}\n",
    "    \n",
    "    #Fit the model and calculate the time\n",
    "    start = time() # Get start time\n",
    "    learner = learner.fit(X_train[:sample_size],y_train[:sample_size]) #fit the model with given sample size\n",
    "    end = time() # Get end time \n",
    "    # Calculate the training time\n",
    "    results['train_time'] = end-start\n",
    "        \n",
    "    #Predict the model and get the time\n",
    "    start = time() # Get start time\n",
    "    predictions_test = learner.predict(X_test) #predict test samples\n",
    "    predictions_train = learner.predict(X_train[:300]) #predict the first 300 samples\n",
    "    end = time() # Get end time\n",
    "    # Calculate the total prediction time\n",
    "    results['pred_time'] = end-start\n",
    "            \n",
    "    # calculate the accuracy of the first 300 training samples\n",
    "    results['acc_train'] = accuracy_score(y_train[:300],predictions_train)\n",
    "        \n",
    "    # calculate the accuracy of the test samples\n",
    "    results['acc_test'] = accuracy_score(y_test,predictions_test)\n",
    "    \n",
    "    # calculate the fbeta_score (beta=0.5) of the first 300 training samples\n",
    "    results['f_train'] = fbeta_score(y_train[:300],predictions_train,beta=0.5)\n",
    "#     print('f_train score is {}'.format(results['f_train']))\n",
    "        \n",
    "    # calculate the fbeta_score (beta=0.5) of the test samples\n",
    "    results['f_test'] = fbeta_score(y_test,predictions_test,beta=0.5)\n",
    "       \n",
    "    # print done\n",
    "    print(\"{} trained on {} samples.\".format(learner.__class__.__name__, sample_size))\n",
    "        \n",
    "    # Return the results\n",
    "    return results"
   ]
  },
  {
   "cell_type": "markdown",
   "metadata": {},
   "source": [
    "### Function to plot performances of all learners in a bar plot\n",
    "\n",
    "**input**\n",
    "    -  results (a collections performance results of all learners)\n",
    "       \n",
    "      {'learner_1': <br /> \n",
    "                   {\n",
    "                    {0 : {'acc_test':  @@@,'acc_train': @@@,'f_test': @@@,'f_train': @@@,'pred_time':\n",
    "                    @@@,'train_time': @@@},     \n",
    "                   {1 : {'acc_test':  @@@,'acc_train': @@@,'f_test': @@@,'f_train': @@@,'pred_time':\n",
    "                    @@@,'train_time': @@@}, \n",
    "                   {2 : {'acc_test':  @@@,'acc_train': @@@,'f_test': @@@,'f_train': @@@,'pred_time':\n",
    "                    @@@,'train_time': @@@} \n",
    "                    },\n",
    "                          \n",
    "        'learner_2':###, <br />\n",
    "        ......\n",
    "        }\n",
    "     \n",
    "       - 0,1,2 stores performance results when fitting the model using 1%,10% or 100% of the training samples\n",
    "\n",
    "**Plot a barplot**\n",
    "\n",
    "     \n",
    "     \n",
    "                                 \n",
    "                                     \n",
    "      \n",
    "      \n",
    "                                   \n",
    "    \n"
   ]
  },
  {
   "cell_type": "code",
   "execution_count": 21,
   "metadata": {},
   "outputs": [],
   "source": [
    "import matplotlib.patches as mpatches\n",
    "def evaluate(results, accuracy, f1,reduced=False):\n",
    "     \n",
    "    # Create figure\n",
    "    fig, ax = plt.subplots(2, 3, figsize = (14,8))\n",
    "\n",
    "    # get a bar_width depending on the number of learners in the results  \n",
    "    if len(results.keys())<=4:\n",
    "        bar_width=0.2\n",
    "    elif len(results.keys())>4 and len(results.keys())<=6:\n",
    "        bar_width=0.15\n",
    "    elif len(results.keys())>6:\n",
    "        bar_width=0.1\n",
    "    #define a list of colors\n",
    "    colors=['blue','green','red','cyan','magenta','yellow','black','pink']\n",
    "    \n",
    "    # Super loop to plot 6 panels of data\n",
    "    #k from  learner ('model_selected')\n",
    "    for k, learner in enumerate(results.keys()):\n",
    "        for j, metric in enumerate(['train_time', 'acc_train', 'f_train', 'pred_time', 'acc_test', 'f_test']):\n",
    "            for i in np.arange(3):      \n",
    "                # Creative plot code\n",
    "                ax[j//3, j%3].bar(i+k*bar_width, results[learner][i][metric], width = bar_width, color = colors[k])\n",
    "                ax[j//3, j%3].set_xticks([0.45, 1.45, 2.45])\n",
    "                ax[j//3, j%3].set_xticklabels([\"1%\", \"10%\", \"100%\"])\n",
    "                ax[j//3, j%3].set_xlabel(\"Training Set Size\")\n",
    "                ax[j//3, j%3].set_xlim((-0.1, 3.0))\n",
    "    \n",
    "    # Add unique y-labels\n",
    "    ax[0, 0].set_ylabel(\"Time (in seconds)\")\n",
    "    ax[0, 1].set_ylabel(\"Accuracy Score\")\n",
    "    ax[0, 2].set_ylabel(\"F-score\")\n",
    "    ax[1, 0].set_ylabel(\"Time (in seconds)\")\n",
    "    ax[1, 1].set_ylabel(\"Accuracy Score\")\n",
    "    ax[1, 2].set_ylabel(\"F-score\")\n",
    "    \n",
    "    # Add titles\n",
    "    ax[0, 0].set_title(\"Model Training\")\n",
    "    ax[0, 1].set_title(\"Accuracy Score on Training Subset\")\n",
    "    ax[0, 2].set_title(\"F-score on Training Subset\")\n",
    "    ax[1, 0].set_title(\"Model Predicting\")\n",
    "    ax[1, 1].set_title(\"Accuracy Score on Testing Set\")\n",
    "    ax[1, 2].set_title(\"F-score on Testing Set\")\n",
    "    \n",
    "    # Add horizontal lines for the worst predictors\n",
    "    ax[0, 1].axhline(y = accuracy, xmin = -0.1, xmax = 3.0, linewidth = 1, color = 'k', linestyle = 'dashed')\n",
    "    ax[1, 1].axhline(y = accuracy, xmin = -0.1, xmax = 3.0, linewidth = 1, color = 'k', linestyle = 'dashed')\n",
    "    ax[0, 2].axhline(y = f1, xmin = -0.1, xmax = 3.0, linewidth = 1, color = 'k', linestyle = 'dashed')\n",
    "    ax[1, 2].axhline(y = f1, xmin = -0.1, xmax = 3.0, linewidth = 1, color = 'k', linestyle = 'dashed')\n",
    "    \n",
    "    # Set y-limits for score panels\n",
    "    ax[0, 1].set_ylim((0, 1))\n",
    "    ax[0, 2].set_ylim((0, 1))\n",
    "    ax[1, 1].set_ylim((0, 1))\n",
    "    ax[1, 2].set_ylim((0, 1))\n",
    "\n",
    "    # Create patches for the legend\n",
    "    patches = []\n",
    "    for i, learner in enumerate(results.keys()):\n",
    "        patches.append(mpatches.Patch(color = colors[i], label = learner))\n",
    "    plt.legend(handles = patches, bbox_to_anchor = (-.80, 2.53), \\\n",
    "               loc = 'upper center', borderaxespad = 0., ncol=len(results.keys()),fontsize = 'x-large')\n",
    "    \n",
    "    # Aesthetics\n",
    "    if reduced==True:\n",
    "        plt.suptitle(\"Performance Metrics with Reduced Features for {} Supervised Learning Models\".format(len(results.keys())), fontsize = 16, y = 1.15)\n",
    "    else:\n",
    "        plt.suptitle(\"Performance Metrics for {} Supervised Learning Models\".format(len(results.keys())), fontsize = 16, y = 1.15)\n",
    "    plt.tight_layout()\n",
    "    plt.show()"
   ]
  },
  {
   "cell_type": "markdown",
   "metadata": {},
   "source": [
    "##  Supervised Learner Models \n",
    "**I tried the following classification models to test their performances using the default setting.**\n",
    "\n",
    "- Logistic Regression\n",
    "- LinearSVC\n",
    "- RandomForestClassifier\n",
    "- SVC\n",
    "- K-Nearest Neighbors (KNeighbors)\n",
    "- GaussianNB\n",
    "\n",
    "**GaussianNB does not seem to be appropriate for this classification, but it would be nice to see how an inappropriate model will perform as a benchmark.**"
   ]
  },
  {
   "cell_type": "code",
   "execution_count": 22,
   "metadata": {},
   "outputs": [
    {
     "name": "stdout",
     "output_type": "stream",
     "text": [
      "LogisticRegression trained on 361 samples.\n",
      "LogisticRegression trained on 3617 samples.\n",
      "LogisticRegression trained on 36177 samples.\n",
      "RandomForestClassifier trained on 361 samples.\n",
      "RandomForestClassifier trained on 3617 samples.\n",
      "RandomForestClassifier trained on 36177 samples.\n",
      "SVC trained on 361 samples.\n",
      "SVC trained on 3617 samples.\n",
      "SVC trained on 36177 samples.\n",
      "GaussianNB trained on 361 samples.\n",
      "GaussianNB trained on 3617 samples.\n",
      "GaussianNB trained on 36177 samples.\n",
      "KNeighborsClassifier trained on 361 samples.\n",
      "KNeighborsClassifier trained on 3617 samples.\n",
      "KNeighborsClassifier trained on 36177 samples.\n",
      "LinearSVC trained on 361 samples.\n",
      "LinearSVC trained on 3617 samples.\n",
      "LinearSVC trained on 36177 samples.\n"
     ]
    }
   ],
   "source": [
    "# Import the three supervised learning models from sklearn\n",
    "from sklearn.naive_bayes import GaussianNB\n",
    "from sklearn.svm import LinearSVC\n",
    "from sklearn.ensemble import RandomForestClassifier\n",
    "from sklearn.svm import SVC\n",
    "from sklearn.linear_model import LogisticRegression\n",
    "from sklearn.neighbors import KNeighborsClassifier\n",
    "# Initialize the three models\n",
    "clf_A = LogisticRegression()\n",
    "clf_B = RandomForestClassifier()\n",
    "clf_C = SVC()\n",
    "clf_D = GaussianNB()\n",
    "clf_E = KNeighborsClassifier()\n",
    "clf_F = LinearSVC()\n",
    "\n",
    "# Calculate the number of samples for 1%, 10%, and 100% of the training data\n",
    "\n",
    "samples_100 = len(y_train)\n",
    "samples_10 = int(0.1*len(y_train))\n",
    "samples_1 = int(0.01*len(y_train))\n",
    "\n",
    "# Collect results on the learners\n",
    "results = {}\n",
    "for clf in [clf_A, clf_B, clf_C,clf_D,clf_E,clf_F]:\n",
    "    clf_name = clf.__class__.__name__\n",
    "    results[clf_name] = {}\n",
    "    for i, samples in enumerate([samples_1, samples_10, samples_100]):\n",
    "        results[clf_name][i] = \\\n",
    "        train_predict(clf, samples, X_train, y_train, X_test, y_test)\n"
   ]
  },
  {
   "cell_type": "code",
   "execution_count": 23,
   "metadata": {},
   "outputs": [
    {
     "data": {
      "image/png": "[encoded data removed]",
      "text/plain": [
       "<matplotlib.figure.Figure at 0x1a1e501a90>"
      ]
     },
     "metadata": {},
     "output_type": "display_data"
    }
   ],
   "source": [
    "evaluate(results, accuracy, fscore)"
   ]
  },
  {
   "cell_type": "markdown",
   "metadata": {},
   "source": [
    "**Among all the models I chose, I would like to pick the RandomForestClassifier and LogisticRegression for optimization.**\n",
    "\n",
    "- they both give good enough F score for the training and the testing set.\n",
    "- Time for training and predicting is relatively short (as compared to SVC and KNeighborsClassifier)\n",
    "- RandomForestClassifier has several hyperparameters to tune to improve the model.\n",
    "\n",
    "**As expected GaussianNB did the worst, only slightly better than my worst predictor (assuming everyone makes greater than 50K, the dashed line in the figure).**"
   ]
  },
  {
   "cell_type": "markdown",
   "metadata": {},
   "source": [
    "# Model Optimization"
   ]
  },
  {
   "cell_type": "markdown",
   "metadata": {},
   "source": [
    "### Function to do RandomizedSearchCV on different learners\n",
    "\n",
    "**Input**\n",
    "- learner\n",
    "- parameters: dictionary\n",
    "- scorer : make_scorer object\n",
    "- X_train\n",
    "- y_train\n",
    "\n",
    "**Output**\n",
    "- result a dictionary with \n",
    "    - best_clf:best_estimator\n",
    "    - accuracy_score_before: accuracy_score before tuning\n",
    "    - accuracy_score after: accuracy_score after tuning\n",
    "    - fscore_before: f0.5 score before tuning\n",
    "    - fscore_after: f0.5 score after tuning"
   ]
  },
  {
   "cell_type": "code",
   "execution_count": 24,
   "metadata": {},
   "outputs": [],
   "source": [
    "from sklearn.model_selection import RandomizedSearchCV\n",
    "from sklearn.metrics import fbeta_score,accuracy_score\n",
    "def random_search(learner,parameters,scorer,X_train,y_train,X_test,y_test):\n",
    "    result={}\n",
    "    random_obj = RandomizedSearchCV(learner, parameters, scoring=scorer,verbose=1)\n",
    "    random_fit = random_obj.fit(X_train, y_train)\n",
    "    best_clf = random_fit.best_estimator_\n",
    "    \n",
    "    # Make predictions using the unoptimized and model\n",
    "    unoptimized_predictions = (learner.fit(X_train, y_train)).predict(X_test)\n",
    "    best_predictions = best_clf.predict(X_test)\n",
    "    result['accuracy_score_before'] = accuracy_score(y_test,  unoptimized_predictions)\n",
    "    result['accuracy_score after'] = accuracy_score(y_test, best_predictions)\n",
    "    result['fscore_before'] = fbeta_score(y_test,  unoptimized_predictions, beta = 0.5)\n",
    "    result['fscore_after'] = fbeta_score(y_test, best_predictions, beta = 0.5)\n",
    "    result['best_clf'] = best_clf\n",
    "     \n",
    "    return result"
   ]
  },
  {
   "cell_type": "markdown",
   "metadata": {},
   "source": [
    "## Perform RandomizedSearchCV for the selected learners"
   ]
  },
  {
   "cell_type": "code",
   "execution_count": 25,
   "metadata": {},
   "outputs": [
    {
     "name": "stdout",
     "output_type": "stream",
     "text": [
      "Fitting 3 folds for each of 10 candidates, totalling 30 fits\n"
     ]
    },
    {
     "name": "stderr",
     "output_type": "stream",
     "text": [
      "[Parallel(n_jobs=1)]: Done  30 out of  30 | elapsed:   53.2s finished\n"
     ]
    },
    {
     "name": "stdout",
     "output_type": "stream",
     "text": [
      "Fitting 3 folds for each of 10 candidates, totalling 30 fits\n"
     ]
    },
    {
     "name": "stderr",
     "output_type": "stream",
     "text": [
      "[Parallel(n_jobs=1)]: Done  30 out of  30 | elapsed:   15.3s finished\n"
     ]
    }
   ],
   "source": [
    "from sklearn.metrics import make_scorer\n",
    "scores={}\n",
    "scorer = make_scorer(fbeta_score, beta=0.5)\n",
    "\n",
    "#define learners to tune\n",
    "#RandomForest\n",
    "clf_1=RandomForestClassifier(random_state=2,n_jobs=-1)\n",
    "#set up parameters\n",
    "n_estimators = [int(x) for x in np.linspace(start = 10, stop = 500, num = 10)]\n",
    "max_features = ['auto', 'sqrt',0.1,0.2]\n",
    "max_depth = [int(x) for x in np.linspace(5, 100, num = 10)]\n",
    "max_depth.append(None)\n",
    "min_samples_split = [2,5,10,20]\n",
    "min_samples_leaf = [2,4,8,16]\n",
    "\n",
    "para_1={'n_estimators': n_estimators,\n",
    "              'max_features': max_features,\n",
    "              'max_depth':max_depth,\n",
    "             'min_samples_split':min_samples_split,\n",
    "             'min_samples_leaf':min_samples_leaf}\n",
    "\n",
    "#Logistic Regression\n",
    "clf_2 = LogisticRegression(random_state=2,n_jobs=-1)\n",
    "para_2 = {'penalty':['l1','l2'],\n",
    "          'C':[0.001,0.01,0.1,1,10,100,1000]}\n",
    "\n",
    "\n",
    "#pile up clf and parameters in a list\n",
    "clfs=[clf_1,clf_2]\n",
    "parameters=[para_1,para_2]\n",
    "\n",
    "#loop to get the scores\n",
    "for learner,parameter in zip(clfs,parameters):\n",
    "    learner_name = learner.__class__.__name__\n",
    "    scores[learner_name]= random_search(learner,parameter,scorer,X_train,y_train,X_test,y_test)\n",
    "    "
   ]
  },
  {
   "cell_type": "code",
   "execution_count": 26,
   "metadata": {},
   "outputs": [
    {
     "data": {
      "text/html": [
       "<div>\n",
       "<style>\n",
       "    .dataframe thead tr:only-child th {\n",
       "        text-align: right;\n",
       "    }\n",
       "\n",
       "    .dataframe thead th {\n",
       "        text-align: left;\n",
       "    }\n",
       "\n",
       "    .dataframe tbody tr th {\n",
       "        vertical-align: top;\n",
       "    }\n",
       "</style>\n",
       "<table border=\"1\" class=\"dataframe\">\n",
       "  <thead>\n",
       "    <tr style=\"text-align: right;\">\n",
       "      <th></th>\n",
       "      <th>LogisticRegression</th>\n",
       "      <th>RandomForestClassifier</th>\n",
       "    </tr>\n",
       "  </thead>\n",
       "  <tbody>\n",
       "    <tr>\n",
       "      <th>accuracy_score after</th>\n",
       "      <td>0.842012</td>\n",
       "      <td>0.861249</td>\n",
       "    </tr>\n",
       "    <tr>\n",
       "      <th>accuracy_score_before</th>\n",
       "      <td>0.841902</td>\n",
       "      <td>0.840464</td>\n",
       "    </tr>\n",
       "    <tr>\n",
       "      <th>best_clf</th>\n",
       "      <td>LogisticRegression(C=0.1, class_weight=None, d...</td>\n",
       "      <td>(DecisionTreeClassifier(class_weight=None, cri...</td>\n",
       "    </tr>\n",
       "    <tr>\n",
       "      <th>fscore_after</th>\n",
       "      <td>0.684188</td>\n",
       "      <td>0.733109</td>\n",
       "    </tr>\n",
       "    <tr>\n",
       "      <th>fscore_before</th>\n",
       "      <td>0.683165</td>\n",
       "      <td>0.677661</td>\n",
       "    </tr>\n",
       "  </tbody>\n",
       "</table>\n",
       "</div>"
      ],
      "text/plain": [
       "                                                      LogisticRegression  \\\n",
       "accuracy_score after                                            0.842012   \n",
       "accuracy_score_before                                           0.841902   \n",
       "best_clf               LogisticRegression(C=0.1, class_weight=None, d...   \n",
       "fscore_after                                                    0.684188   \n",
       "fscore_before                                                   0.683165   \n",
       "\n",
       "                                                  RandomForestClassifier  \n",
       "accuracy_score after                                            0.861249  \n",
       "accuracy_score_before                                           0.840464  \n",
       "best_clf               (DecisionTreeClassifier(class_weight=None, cri...  \n",
       "fscore_after                                                    0.733109  \n",
       "fscore_before                                                   0.677661  "
      ]
     },
     "execution_count": 26,
     "metadata": {},
     "output_type": "execute_result"
    }
   ],
   "source": [
    "#visualize the metrics for each model after parameter optimization\n",
    "pd.DataFrame(scores)"
   ]
  },
  {
   "cell_type": "code",
   "execution_count": 27,
   "metadata": {},
   "outputs": [
    {
     "data": {
      "text/plain": [
       "RandomForestClassifier(bootstrap=True, class_weight=None, criterion='gini',\n",
       "            max_depth=36, max_features='auto', max_leaf_nodes=None,\n",
       "            min_impurity_decrease=0.0, min_impurity_split=None,\n",
       "            min_samples_leaf=2, min_samples_split=20,\n",
       "            min_weight_fraction_leaf=0.0, n_estimators=64, n_jobs=-1,\n",
       "            oob_score=False, random_state=2, verbose=0, warm_start=False)"
      ]
     },
     "execution_count": 27,
     "metadata": {},
     "output_type": "execute_result"
    }
   ],
   "source": [
    "scores['RandomForestClassifier']['best_clf']"
   ]
  },
  {
   "cell_type": "markdown",
   "metadata": {},
   "source": [
    "**The performance of RandomForestClassifier has improved after tuning but not LogisticRegression.**\n",
    "\n",
    "**For RandomForestClassifier**\n",
    "- My optimized model's accuracy and F-score are 0.8611 and 0.7317, respectively. \n",
    "- They are just slightly better than the unoptimized model. I think the optimized model performs better than the non-optimized model becuase it has the n_estimators of 64 compared to 10 for the non-optimized model. More trees built for voting makes a more robust model prediction. \n"
   ]
  },
  {
   "cell_type": "markdown",
   "metadata": {},
   "source": [
    "## Feature Reduction\n",
    "\n"
   ]
  },
  {
   "cell_type": "markdown",
   "metadata": {},
   "source": [
    "**I chose RandomForestClassifier as the optimal model so far, and I can extract feature importance from this model, why not try to reduce features? If I can reduce features to a reasonable number, maybe I can try to improve by using some more time-consuming models.**"
   ]
  },
  {
   "cell_type": "code",
   "execution_count": 28,
   "metadata": {},
   "outputs": [],
   "source": [
    "#extract the feature importances out from the best_estimator\n",
    "best_clf=scores['RandomForestClassifier']['best_clf'] \n",
    "importances =best_clf.feature_importances_\n",
    "std=np.std([tree.feature_importances_ for tree in best_clf],axis=0)\n",
    "\n",
    "#get index of features sorted by importances value\n",
    "indices=np.argsort(importances)[::-1]\n"
   ]
  },
  {
   "cell_type": "markdown",
   "metadata": {},
   "source": [
    "### Function to plot feature importance weight\n",
    "**Input**\n",
    "- columns: a list of column(feature) names\n",
    "- value: a list of values of importances\n",
    "- n: number of features should equal to the len(columns)\n",
    "- std: a list of std of the top n features\n",
    "\n",
    "**Plot a bar plot**"
   ]
  },
  {
   "cell_type": "code",
   "execution_count": 29,
   "metadata": {},
   "outputs": [],
   "source": [
    "def feature_plot(columns,values,n,std):\n",
    "    fig = plt.figure(figsize = (10,8))\n",
    "    plt.bar(np.arange(n), values, width = 0.3,yerr=std,align=\"center\", color = '#00A000', \\\n",
    "              label = \"Feature Weight\")\n",
    "    plt.bar(np.arange(n) + 0.3, np.cumsum(values), width = 0.3, align = \"center\", color = '#00A0A0', \\\n",
    "              label = \"Cumulative Feature Weight\")\n",
    "    plt.xticks(np.arange(n)+0.15, columns,rotation=60,fontsize=8,fontweight='bold')\n",
    "    plt.xlim((-0.5, n))\n",
    "    plt.ylabel(\"Weight\", fontsize = 12)\n",
    "    plt.xlabel(\"Feature\", fontsize = 12)\n",
    "\n",
    "    plt.title(\"Normalized Weights for First {} Most Predictive Features\".format(n), fontsize = 16)    \n",
    "    plt.legend(loc = 'upper left')\n",
    "    plt.tight_layout()\n",
    "    plt.show()  "
   ]
  },
  {
   "cell_type": "code",
   "execution_count": 30,
   "metadata": {},
   "outputs": [
    {
     "data": {
      "image/png": "[encoded data removed]",
      "text/plain": [
       "<matplotlib.figure.Figure at 0x110e155f8>"
      ]
     },
     "metadata": {},
     "output_type": "display_data"
    }
   ],
   "source": [
    "feature_plot(X_train.columns[indices[:10]],importances[indices[:10]],10,std[indices[:10]])"
   ]
  },
  {
   "cell_type": "markdown",
   "metadata": {},
   "source": [
    "**It seems the top 10 weighted features contribute to >0.7 of the feature importance**<br />\n",
    "I guessed hours-per-week, capital-gain, education-num or occupation-related features would weigh more among all these features, but I did not expect age, marital-status, played such vital roles too.\n",
    "But if I think about it, marital-status could reflect the stability of someone's life, thus indirectly indicate one's financial ability. Age could reveal one's experience at work, while experience is usually proportional to the salary. \n",
    "Overall, I think the feature importances make sense."
   ]
  },
  {
   "cell_type": "markdown",
   "metadata": {},
   "source": [
    "## Test models with reduced features"
   ]
  },
  {
   "cell_type": "code",
   "execution_count": 31,
   "metadata": {},
   "outputs": [
    {
     "name": "stdout",
     "output_type": "stream",
     "text": [
      "Now the shape of X_train is (36177, 10)\n",
      "Now the shape of X_test is (9045, 10)\n"
     ]
    }
   ],
   "source": [
    "X_train_reduced = X_train[X_train.columns[indices[:10]]]\n",
    "X_test_reduced = X_test[X_test.columns[indices[:10]]]\n",
    "\n",
    "#confirm success\n",
    "print('Now the shape of X_train is {}'.format(X_train_reduced.shape))\n",
    "print('Now the shape of X_test is {}'.format(X_test_reduced.shape))\n"
   ]
  },
  {
   "cell_type": "code",
   "execution_count": 32,
   "metadata": {},
   "outputs": [
    {
     "name": "stdout",
     "output_type": "stream",
     "text": [
      "Final Model trained on full data\n",
      "------\n",
      "Accuracy on testing data: 0.8612\n",
      "F-score on testing data: 0.7331\n",
      "\n",
      "Final Model trained on reduced data\n",
      "------\n",
      "Accuracy on testing data: 0.8563\n",
      "F-score on testing data: 0.7192\n"
     ]
    }
   ],
   "source": [
    "# first test on the optimized_best model(RandomForest) to evaluate the performances\n",
    "from sklearn.base import clone\n",
    "clf_reduced = (clone(best_clf)).fit(X_train_reduced, y_train)\n",
    "# Make new predictions\n",
    "reduced_predictions = clf_reduced.predict(X_test_reduced)\n",
    "\n",
    "print(\"Final Model trained on full data\\n------\")\n",
    "print(\"Accuracy on testing data: {:.4f}\".format(scores['RandomForestClassifier']['accuracy_score after']))\n",
    "print(\"F-score on testing data: {:.4f}\".format(scores['RandomForestClassifier']['fscore_after']))\n",
    "print(\"\\nFinal Model trained on reduced data\\n------\")\n",
    "print(\"Accuracy on testing data: {:.4f}\".format(accuracy_score(y_test, reduced_predictions)))\n",
    "print(\"F-score on testing data: {:.4f}\".format(fbeta_score(y_test, reduced_predictions, beta = 0.5)))"
   ]
  },
  {
   "cell_type": "markdown",
   "metadata": {},
   "source": [
    "**It seems reducing features from 103 to 10 does not affect the optimized RandomForestClassifier that much. I would use the reduced training set if more data is coming for this model.**\n",
    "\n",
    "**When I did the initial evaluation of models, SVC and K-Nearest Neighbors (KNeighbors) gave a decent performance score but were time-costing.Therefore I did not further optimize these two models. Now I would like to try to use these two models on the data set with reduced feature to see if I can reduce the time for training and predicting so I can further optimize these models.**"
   ]
  },
  {
   "cell_type": "markdown",
   "metadata": {},
   "source": [
    "### Use the reduced set to evaluate the performances of SVC and K-Nearest Neighbors\n",
    "\n",
    "**Non-optimized RandomForestClassifier is used as a control for the time for training and predicting**"
   ]
  },
  {
   "cell_type": "code",
   "execution_count": 33,
   "metadata": {},
   "outputs": [
    {
     "name": "stdout",
     "output_type": "stream",
     "text": [
      "RandomForestClassifier trained on 361 samples.\n",
      "RandomForestClassifier trained on 3617 samples.\n",
      "RandomForestClassifier trained on 36177 samples.\n",
      "SVC trained on 361 samples.\n",
      "SVC trained on 3617 samples.\n",
      "SVC trained on 36177 samples.\n",
      "KNeighborsClassifier trained on 361 samples.\n",
      "KNeighborsClassifier trained on 3617 samples.\n",
      "KNeighborsClassifier trained on 36177 samples.\n"
     ]
    }
   ],
   "source": [
    "clf_B = RandomForestClassifier()\n",
    "clf_C = SVC()\n",
    "clf_E = KNeighborsClassifier()\n",
    "\n",
    "# Calculate the number of samples for 1%, 10%, and 100% of the training data\n",
    "\n",
    "samples_100 = len(y_train)\n",
    "samples_10 = int(0.1*len(y_train))\n",
    "samples_1 = int(0.01*len(y_train))\n",
    "\n",
    "# Collect results on the learners\n",
    "results_reduced = {}\n",
    "for clf in [clf_B,clf_C,clf_E]:\n",
    "    clf_name ='Reduced_'+ clf.__class__.__name__\n",
    "    results_reduced[clf_name] = {}\n",
    "    for i, samples in enumerate([samples_1, samples_10, samples_100]):\n",
    "        results_reduced[clf_name][i] = \\\n",
    "        train_predict(clf, samples, X_train_reduced, y_train, X_test_reduced, y_test)\n"
   ]
  },
  {
   "cell_type": "code",
   "execution_count": 34,
   "metadata": {},
   "outputs": [
    {
     "data": {
      "image/png": "[encoded data removed]",
      "text/plain": [
       "<matplotlib.figure.Figure at 0x110eb8390>"
      ]
     },
     "metadata": {},
     "output_type": "display_data"
    }
   ],
   "source": [
    "#unreduced_results for RandomForestClassifier, SVC and KNeightborsClassifier\n",
    "unreduced_results = {'RandomForestClassifier': results['RandomForestClassifier'],\n",
    "                     'SVC':results['SVC'],\n",
    "                    'KNeighborsClassifier':results['KNeighborsClassifier']}\n",
    "#combine the unreduced and the reduced results\n",
    "unreduced_results.update(results_reduced)\n",
    "\n",
    "evaluate(unreduced_results,accuracy, fscore)"
   ]
  },
  {
   "cell_type": "markdown",
   "metadata": {},
   "source": [
    "**Feature reduction leads to a decrease in the time for training and predicting models for both SVC and KNeighborsClassifier, while the performance metrics have not changed that much.**\n",
    "\n",
    "**So I decide to further optimize SVC and KNeighborsClassifier.**"
   ]
  },
  {
   "cell_type": "code",
   "execution_count": 36,
   "metadata": {},
   "outputs": [
    {
     "name": "stdout",
     "output_type": "stream",
     "text": [
      "Fitting 3 folds for each of 10 candidates, totalling 30 fits\n"
     ]
    },
    {
     "name": "stderr",
     "output_type": "stream",
     "text": [
      "[Parallel(n_jobs=1)]: Done  30 out of  30 | elapsed:  7.2min finished\n"
     ]
    },
    {
     "name": "stdout",
     "output_type": "stream",
     "text": [
      "Fitting 3 folds for each of 10 candidates, totalling 30 fits\n"
     ]
    },
    {
     "name": "stderr",
     "output_type": "stream",
     "text": [
      "[Parallel(n_jobs=1)]: Done  30 out of  30 | elapsed:  1.2min finished\n"
     ]
    }
   ],
   "source": [
    "#define learners to tune SVC and KNeighbors with reduced data_set\n",
    "\n",
    "#append onto the scores\n",
    "clf_SVC=SVC(random_state=6)\n",
    "#set up parameters\n",
    "\n",
    "para_SVC={'kernel': ['poly',\"rbf\"],\n",
    "        'C': [0.001,0.01,0.1,1,10,100,1000],\n",
    "        'gamma':[0.001,0.1,0.1,10,100,1000],\n",
    "        'degree':[2,3,4,5,6]}\n",
    "\n",
    "#KN \n",
    "clf_KN = KNeighborsClassifier(n_jobs=-1)\n",
    "\n",
    "#pick odd number from 1-49\n",
    "para_KN = {'n_neighbors':[i for i in range(50) if i%2!=0]}\n",
    "\n",
    "\n",
    "#pile up clf and parameters in a list\n",
    "clfs=[clf_SVC,clf_KN]\n",
    "parameters=[para_SVC,para_KN]\n",
    "\n",
    "#loop to get the scores\n",
    "for learner,parameter in zip(clfs,parameters):\n",
    "    learner_name = 'Reduced_'+learner.__class__.__name__\n",
    "    scores[learner_name]= random_search(learner,parameter,scorer,X_train_reduced,y_train,X_test_reduced,y_test)\n",
    "    "
   ]
  },
  {
   "cell_type": "code",
   "execution_count": 37,
   "metadata": {},
   "outputs": [
    {
     "data": {
      "text/html": [
       "<div>\n",
       "<style>\n",
       "    .dataframe thead tr:only-child th {\n",
       "        text-align: right;\n",
       "    }\n",
       "\n",
       "    .dataframe thead th {\n",
       "        text-align: left;\n",
       "    }\n",
       "\n",
       "    .dataframe tbody tr th {\n",
       "        vertical-align: top;\n",
       "    }\n",
       "</style>\n",
       "<table border=\"1\" class=\"dataframe\">\n",
       "  <thead>\n",
       "    <tr style=\"text-align: right;\">\n",
       "      <th></th>\n",
       "      <th>LogisticRegression</th>\n",
       "      <th>RandomForestClassifier</th>\n",
       "      <th>Reduced_KNeighborsClassifier</th>\n",
       "      <th>Reduced_SVC</th>\n",
       "    </tr>\n",
       "  </thead>\n",
       "  <tbody>\n",
       "    <tr>\n",
       "      <th>accuracy_score after</th>\n",
       "      <td>0.842012</td>\n",
       "      <td>0.861249</td>\n",
       "      <td>0.839469</td>\n",
       "      <td>0.849309</td>\n",
       "    </tr>\n",
       "    <tr>\n",
       "      <th>accuracy_score_before</th>\n",
       "      <td>0.841902</td>\n",
       "      <td>0.840464</td>\n",
       "      <td>0.827418</td>\n",
       "      <td>0.832062</td>\n",
       "    </tr>\n",
       "    <tr>\n",
       "      <th>best_clf</th>\n",
       "      <td>LogisticRegression(C=0.1, class_weight=None, d...</td>\n",
       "      <td>(DecisionTreeClassifier(class_weight=None, cri...</td>\n",
       "      <td>KNeighborsClassifier(algorithm='auto', leaf_si...</td>\n",
       "      <td>SVC(C=1, cache_size=200, class_weight=None, co...</td>\n",
       "    </tr>\n",
       "    <tr>\n",
       "      <th>fscore_after</th>\n",
       "      <td>0.684188</td>\n",
       "      <td>0.733109</td>\n",
       "      <td>0.67749</td>\n",
       "      <td>0.704658</td>\n",
       "    </tr>\n",
       "    <tr>\n",
       "      <th>fscore_before</th>\n",
       "      <td>0.683165</td>\n",
       "      <td>0.677661</td>\n",
       "      <td>0.64801</td>\n",
       "      <td>0.66241</td>\n",
       "    </tr>\n",
       "  </tbody>\n",
       "</table>\n",
       "</div>"
      ],
      "text/plain": [
       "                                                      LogisticRegression  \\\n",
       "accuracy_score after                                            0.842012   \n",
       "accuracy_score_before                                           0.841902   \n",
       "best_clf               LogisticRegression(C=0.1, class_weight=None, d...   \n",
       "fscore_after                                                    0.684188   \n",
       "fscore_before                                                   0.683165   \n",
       "\n",
       "                                                  RandomForestClassifier  \\\n",
       "accuracy_score after                                            0.861249   \n",
       "accuracy_score_before                                           0.840464   \n",
       "best_clf               (DecisionTreeClassifier(class_weight=None, cri...   \n",
       "fscore_after                                                    0.733109   \n",
       "fscore_before                                                   0.677661   \n",
       "\n",
       "                                            Reduced_KNeighborsClassifier  \\\n",
       "accuracy_score after                                            0.839469   \n",
       "accuracy_score_before                                           0.827418   \n",
       "best_clf               KNeighborsClassifier(algorithm='auto', leaf_si...   \n",
       "fscore_after                                                     0.67749   \n",
       "fscore_before                                                    0.64801   \n",
       "\n",
       "                                                             Reduced_SVC  \n",
       "accuracy_score after                                            0.849309  \n",
       "accuracy_score_before                                           0.832062  \n",
       "best_clf               SVC(C=1, cache_size=200, class_weight=None, co...  \n",
       "fscore_after                                                    0.704658  \n",
       "fscore_before                                                    0.66241  "
      ]
     },
     "execution_count": 37,
     "metadata": {},
     "output_type": "execute_result"
    }
   ],
   "source": [
    "pd.DataFrame(scores)"
   ]
  },
  {
   "cell_type": "markdown",
   "metadata": {},
   "source": [
    "# Summary\n",
    "\n",
    "**After optimization, the F-score for SVC (with reduced training set) has increased from 0.6624 to 0.7046, while the F-score for KNeighborsClassifier    (with reduced training set) has risen from 0.64801 to 0.67749. Nevertheless, none of these performed as well as RandomForestClassifier (F-score 0.7331 with full data set, 0.7192 with the reduced dataset). Also, RandomForestClassifier takes the least time to train and to predict. Therefore, I would pick the RandomForestClassifier.**"
   ]
  },
  {
   "cell_type": "code",
   "execution_count": null,
   "metadata": {},
   "outputs": [],
   "source": []
  }
 ],
 "metadata": {
  "kernelspec": {
   "display_name": "Python 3",
   "language": "python",
   "name": "python3"
  },
  "language_info": {
   "codemirror_mode": {
    "name": "ipython",
    "version": 3
   },
   "file_extension": ".py",
   "mimetype": "text/x-python",
   "name": "python",
   "nbconvert_exporter": "python",
   "pygments_lexer": "ipython3",
   "version": "3.6.3"
  }
 },
 "nbformat": 4,
 "nbformat_minor": 2
}
